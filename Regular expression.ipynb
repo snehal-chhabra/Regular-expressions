{
 "cells": [
  {
   "cell_type": "markdown",
   "id": "e344fdc8",
   "metadata": {},
   "source": [
    "# Regular Expression"
   ]
  },
  {
   "cell_type": "markdown",
   "id": "4103dfe4",
   "metadata": {},
   "source": [
    "A regular expression is a special sequence of charcters that helps you match or find other strings, using a specialized syntax held in a pattern.\n",
    "To understand the RE analogy, meta characters are useful,important and will be used in functions of module re.\n",
    "There are a total of 14 meta characters."
   ]
  },
  {
   "cell_type": "code",
   "execution_count": 1,
   "id": "ab7b45a0",
   "metadata": {},
   "outputs": [],
   "source": [
    "import re #re stands for regular expression"
   ]
  },
  {
   "cell_type": "code",
   "execution_count": 3,
   "id": "e9c76032",
   "metadata": {},
   "outputs": [
    {
     "name": "stdout",
     "output_type": "stream",
     "text": [
      "Hello\n",
      "World\n"
     ]
    }
   ],
   "source": [
    "print(\"Hello\\nWorld\")  #\\n:escape character"
   ]
  },
  {
   "cell_type": "code",
   "execution_count": 4,
   "id": "bf84b12f",
   "metadata": {},
   "outputs": [
    {
     "name": "stdout",
     "output_type": "stream",
     "text": [
      "Hello\\nWorld\n"
     ]
    }
   ],
   "source": [
    "print(r'Hello\\nWorld')   #raw string literal "
   ]
  },
  {
   "cell_type": "code",
   "execution_count": 54,
   "id": "a37a9991",
   "metadata": {},
   "outputs": [],
   "source": [
    "x= \"\"\"abcdefghijklmnopqrstuvwxyz\n",
    "ABCDEFGHIJKLMNOPQRSTUVWXYZ\n",
    "some.one@gmail.com\n",
    "anything123@gmail.com\n",
    "@gmail.com\n",
    "9354-328-885\n",
    "9354.328.885\n",
    "Mr. Someone\n",
    "Mr Anything\n",
    "\"\"\""
   ]
  },
  {
   "cell_type": "code",
   "execution_count": 17,
   "id": "0f09f135",
   "metadata": {},
   "outputs": [],
   "source": [
    "text = \"Hi, my namme is Something Anything and my email address is some.in12W@gmail.com a_b@gmail.com @gmail.com\""
   ]
  },
  {
   "cell_type": "code",
   "execution_count": 7,
   "id": "f71a2bb2",
   "metadata": {},
   "outputs": [
    {
     "name": "stdout",
     "output_type": "stream",
     "text": [
      "['b@gmail.com']\n"
     ]
    }
   ],
   "source": [
    "xr= re.findall('[a-z]@gmail.com',text)\n",
    "print(xr)"
   ]
  },
  {
   "cell_type": "code",
   "execution_count": 8,
   "id": "1c4230f0",
   "metadata": {},
   "outputs": [
    {
     "name": "stdout",
     "output_type": "stream",
     "text": [
      "['W@gmail.com', 'b@gmail.com']\n"
     ]
    }
   ],
   "source": [
    "xr= re.findall('[a-zA-Z]@gmail.com',text)\n",
    "print(xr)"
   ]
  },
  {
   "cell_type": "code",
   "execution_count": 19,
   "id": "ac41f6d3",
   "metadata": {},
   "outputs": [
    {
     "name": "stdout",
     "output_type": "stream",
     "text": [
      "['W@gmail.com', 'b@gmail.com']\n"
     ]
    }
   ],
   "source": [
    "xr= re.findall('[a-zA-Z0-9]@gmail.com',text)\n",
    "print(xr)"
   ]
  },
  {
   "cell_type": "code",
   "execution_count": 20,
   "id": "f1a7d7a9",
   "metadata": {},
   "outputs": [
    {
     "name": "stdout",
     "output_type": "stream",
     "text": [
      "['in12W@gmail.com', 'b@gmail.com']\n"
     ]
    }
   ],
   "source": [
    "xr= re.findall('[a-zA-Z0-9]+@gmail.com',text)  \n",
    "print(xr)\n",
    "#+:it is a quantifier.There are 5 QUANTIFIERS. \n",
    "#+ searches for at least one or more occurence of characters given in set\n",
    "#(represented by [] brackets) before given text"
   ]
  },
  {
   "cell_type": "code",
   "execution_count": 21,
   "id": "10dba811",
   "metadata": {},
   "outputs": [
    {
     "name": "stdout",
     "output_type": "stream",
     "text": [
      "['in12W@gmail.com', 'a_b@gmail.com']\n"
     ]
    }
   ],
   "source": [
    "xr= re.findall('[a-zA-Z0-9_]+@gmail.com',text)  \n",
    "print(xr)\n",
    "#@gmail.com in the end is not given in output bcoz at least one \n",
    "#character is needed. no upper limit "
   ]
  },
  {
   "cell_type": "code",
   "execution_count": 22,
   "id": "ef4a819c",
   "metadata": {},
   "outputs": [
    {
     "name": "stdout",
     "output_type": "stream",
     "text": [
      "['in12W@gmail.com', 'a_b@gmail.com', '@gmail.com']\n"
     ]
    }
   ],
   "source": [
    "xr= re.findall('[a-zA-Z0-9_]*@gmail.com',text)  \n",
    "print(xr)\n",
    "#*: asterisk means zero or more occurence.\n",
    "#these are called word charcters-> a-zA-Z0-9_ and symbolized by \\w"
   ]
  },
  {
   "cell_type": "code",
   "execution_count": 23,
   "id": "87644a34",
   "metadata": {},
   "outputs": [
    {
     "name": "stdout",
     "output_type": "stream",
     "text": [
      "['in12W@gmail.com', 'a_b@gmail.com', '@gmail.com']\n"
     ]
    }
   ],
   "source": [
    "xr= re.findall('[\\w]*@gmail.com',text)  \n",
    "print(xr)"
   ]
  },
  {
   "cell_type": "code",
   "execution_count": 24,
   "id": "cba6466e",
   "metadata": {},
   "outputs": [
    {
     "name": "stdout",
     "output_type": "stream",
     "text": [
      "['some.in12W@gmail.com', 'a_b@gmail.com', '@gmail.com']\n"
     ]
    }
   ],
   "source": [
    "xr= re.findall('[a-zA-Z0-9_.]*@gmail.com',text)  \n",
    "print(xr)"
   ]
  },
  {
   "cell_type": "code",
   "execution_count": 25,
   "id": "b72617ea",
   "metadata": {},
   "outputs": [
    {
     "name": "stdout",
     "output_type": "stream",
     "text": [
      "['some.in12W@gmail.com', 'a_b@gmail.com', '@gmail.com']\n"
     ]
    }
   ],
   "source": [
    "xr= re.findall('[\\w.]*@gmail.com',text)  \n",
    "print(xr)"
   ]
  },
  {
   "cell_type": "code",
   "execution_count": 30,
   "id": "b860c225",
   "metadata": {},
   "outputs": [],
   "source": [
    "text1 = \"Hi, my namme is Something Anything and my email address is some.in12W@gmail,com a_b@gmail.com @gmail.com b@ymail.com\""
   ]
  },
  {
   "cell_type": "code",
   "execution_count": 34,
   "id": "1b306375",
   "metadata": {},
   "outputs": [
    {
     "name": "stdout",
     "output_type": "stream",
     "text": [
      "['in12W@gmail,com', 'a_b@gmail.com', 'b@ymail.com']\n"
     ]
    }
   ],
   "source": [
    "xr= re.findall('[a-zA-Z0-9_]+@.mail.com',text1)  \n",
    "print(xr)\n",
    "#. outside the set in text to be searched means any character is allowed\n",
    "#(upper,lowercase,special characters,digits,anything but slash)"
   ]
  },
  {
   "cell_type": "code",
   "execution_count": 35,
   "id": "0328fe92",
   "metadata": {},
   "outputs": [
    {
     "name": "stdout",
     "output_type": "stream",
     "text": [
      "['a_b@gmail.com', 'b@ymail.com']\n"
     ]
    }
   ],
   "source": [
    "#the dot between mail and com can create a problem as it will also allow \n",
    "#any character to pass therefore to avoild this we can put it in set \n",
    "#brackets [] to avoid this issue\n",
    "xr= re.findall('[a-zA-Z0-9_]+@.mail[.]com',text1)  \n",
    "print(xr)"
   ]
  },
  {
   "cell_type": "code",
   "execution_count": 36,
   "id": "d4eb878b",
   "metadata": {},
   "outputs": [
    {
     "name": "stdout",
     "output_type": "stream",
     "text": [
      "['a_b@gmail.com', 'b@ymail.com']\n"
     ]
    }
   ],
   "source": [
    "#similarly, we can use \\. \\ is an escape character so it can be used to \n",
    "#escape the special nature of dot\n",
    "xr= re.findall('[a-zA-Z0-9_]+@.mail\\.com',text1)  \n",
    "print(xr)"
   ]
  },
  {
   "cell_type": "code",
   "execution_count": 37,
   "id": "4fc323c5",
   "metadata": {},
   "outputs": [
    {
     "name": "stdout",
     "output_type": "stream",
     "text": [
      "['W@gmail.com', 'b@gmail.com', '@gmail.com']\n"
     ]
    }
   ],
   "source": [
    "xr= re.findall('[a-zA-Z0-9_]?@gmail.com',text)  \n",
    "print(xr)\n",
    "#? means zero or one character. min=0,max=1. "
   ]
  },
  {
   "cell_type": "code",
   "execution_count": 39,
   "id": "da04927a",
   "metadata": {},
   "outputs": [
    {
     "name": "stdout",
     "output_type": "stream",
     "text": [
      "['in12W@gmail.com']\n"
     ]
    }
   ],
   "source": [
    "xr= re.findall('[\\w.]{5}@gmail.com',text)  \n",
    "print(xr)\n",
    "#exactly 5 characters"
   ]
  },
  {
   "cell_type": "code",
   "execution_count": 47,
   "id": "544a8fc7",
   "metadata": {},
   "outputs": [
    {
     "name": "stdout",
     "output_type": "stream",
     "text": [
      "['some.in12W@gmail.com', 'a_b@gmail.com']\n"
     ]
    }
   ],
   "source": [
    "xr= re.findall('[\\w.]{3,10}@gmail\\.com',text)  \n",
    "print(xr)\n",
    "#min=3,max=10"
   ]
  },
  {
   "cell_type": "markdown",
   "id": "9a94830a",
   "metadata": {},
   "source": [
    "#### THESE ARE THE FIVE QUANTIFIERS--> '+' '*' '?' '{a}' '{a,b}'\n",
    "\n",
    "{a,} means max=infinity, min=a\n",
    "\n",
    "{,a} means min=0, max=a\n",
    "\n",
    "{1,} is equivalent to +\n",
    "\n",
    "{0,} or {,} is equivalent to *"
   ]
  },
  {
   "cell_type": "code",
   "execution_count": 55,
   "id": "54024f8a",
   "metadata": {},
   "outputs": [
    {
     "name": "stdout",
     "output_type": "stream",
     "text": [
      "['Mr. Someone', 'Mr Anything']\n"
     ]
    }
   ],
   "source": [
    "xr= re.findall('Mr[.]? [A-Z][a-z]*',x)  \n",
    "print(xr)\n",
    "#Mr[.]? [A-Z][a-z]*  this is called RegEx"
   ]
  },
  {
   "cell_type": "code",
   "execution_count": 56,
   "id": "81831ceb",
   "metadata": {},
   "outputs": [
    {
     "data": {
      "text/plain": [
       "['+918603401211']"
      ]
     },
     "execution_count": 56,
     "metadata": {},
     "output_type": "execute_result"
    }
   ],
   "source": [
    "t='My name is Snehal. My contact number is +918603401211 and I live in Jamshedpur.'\n",
    "regex = '\\+91[6-9][\\d]{9}'\n",
    "re.findall(regex,t)\n",
    "#\\d: word character; it means 0-9"
   ]
  },
  {
   "cell_type": "code",
   "execution_count": 64,
   "id": "ed94663f",
   "metadata": {},
   "outputs": [],
   "source": [
    "t='My name is Snehal. My contact number is +918603401211 08210235453 and I live in Jamshedpur.'"
   ]
  },
  {
   "cell_type": "code",
   "execution_count": 65,
   "id": "168c2acf",
   "metadata": {},
   "outputs": [
    {
     "data": {
      "text/plain": [
       "['+91', '']"
      ]
     },
     "execution_count": 65,
     "metadata": {},
     "output_type": "execute_result"
    }
   ],
   "source": [
    "regex = '([+]91)?[0]?[\\d]{10}'\n",
    "re.findall(regex,t)\n",
    "#parentheses means capturing group. it is a meta character. the grp is \n",
    "#searched for and the rest is ignored"
   ]
  },
  {
   "cell_type": "code",
   "execution_count": 66,
   "id": "9f07af4d",
   "metadata": {},
   "outputs": [
    {
     "data": {
      "text/plain": [
       "['+918603401211', '08210235453']"
      ]
     },
     "execution_count": 66,
     "metadata": {},
     "output_type": "execute_result"
    }
   ],
   "source": [
    "regex = '(?:[+]91)?[0]?[\\d]{10}'\n",
    "re.findall(regex,t)\n",
    "#parentheses means capture and group. it is a meta character. the grp is \n",
    "#searched for and the rest is ignored\n",
    "#?: makes it a non-capturing group. therefore it searches for the characters\n",
    "#in parantheses separately but not ignore the rest of the expression."
   ]
  },
  {
   "cell_type": "code",
   "execution_count": 2,
   "id": "be59577c",
   "metadata": {},
   "outputs": [
    {
     "data": {
      "text/plain": [
       "['+918603401211', '08210235453']"
      ]
     },
     "execution_count": 2,
     "metadata": {},
     "output_type": "execute_result"
    }
   ],
   "source": [
    "t='My name is Snehal. My contact number is +918603401211 08210235453 and I live in Jamshedpur.'\n",
    "regex = '(?:[+]91)?[0]?[\\d]{10}'\n",
    "re.findall(regex,t)"
   ]
  },
  {
   "cell_type": "code",
   "execution_count": 68,
   "id": "5802bad1",
   "metadata": {},
   "outputs": [
    {
     "data": {
      "text/plain": [
       "['+91-8603401211', '08210235453']"
      ]
     },
     "execution_count": 68,
     "metadata": {},
     "output_type": "execute_result"
    }
   ],
   "source": [
    "regex = '(?:[+]91[-]?)?[0]?[\\d]{10}'\n",
    "re.findall(regex,t)"
   ]
  },
  {
   "cell_type": "code",
   "execution_count": 69,
   "id": "9c5c18d5",
   "metadata": {},
   "outputs": [
    {
     "data": {
      "text/plain": [
       "['+91-8603401211', '08210235453']"
      ]
     },
     "execution_count": 69,
     "metadata": {},
     "output_type": "execute_result"
    }
   ],
   "source": [
    "regex = '(?:[+]91[-]?|[0]?)?[\\d]{10}'\n",
    "re.findall(regex,t)\n",
    "#| symbolizes OR."
   ]
  },
  {
   "cell_type": "code",
   "execution_count": 4,
   "id": "24e6f59a",
   "metadata": {},
   "outputs": [
    {
     "data": {
      "text/plain": [
       "['9186034012', '08210235453']"
      ]
     },
     "execution_count": 4,
     "metadata": {},
     "output_type": "execute_result"
    }
   ],
   "source": [
    "regex='(?:[+]91)?[0-9]{10}' and '[0]?[0-9]{10}'\n",
    "re.findall(regex,t)\n",
    "#PROBLEM HERE"
   ]
  },
  {
   "cell_type": "code",
   "execution_count": 10,
   "id": "54686064",
   "metadata": {},
   "outputs": [],
   "source": [
    "x1= \"\"\"abcdefghijklmnopqrstuvwxyz\n",
    "ABCDEFGHIJKLMNOPQRSTUVWXYZ\n",
    "some.one@gmail.com\n",
    "anything123@gmail.com\n",
    "@gmail.com\n",
    "23@gmail.com\n",
    "9354-328-885\n",
    "9354.328.885\n",
    "Mr. Someone\n",
    "Mr. Anything\n",
    "Ms. Everyone\n",
    "Mrs. Anyone\n",
    "Mr.\"\"\""
   ]
  },
  {
   "cell_type": "code",
   "execution_count": 15,
   "id": "d829a7c4",
   "metadata": {},
   "outputs": [
    {
     "name": "stdout",
     "output_type": "stream",
     "text": [
      "['Mr.', 'Mr.', 'Ms. Everyone', 'Mrs.', 'Mr.']\n"
     ]
    }
   ],
   "source": [
    "w=re.findall('Mr\\.|Mrs\\.|Ms\\. [a-zA-Z]+',x1)\n",
    "print(w)"
   ]
  },
  {
   "cell_type": "code",
   "execution_count": 16,
   "id": "bada2acb",
   "metadata": {},
   "outputs": [
    {
     "name": "stdout",
     "output_type": "stream",
     "text": [
      "['Mr. Someone', 'Mr. Anything', 'Ms. Everyone', 'Mrs. Anyone']\n"
     ]
    }
   ],
   "source": [
    "w=re.findall('(?:Mr\\.|Mrs\\.|Ms\\.) [a-zA-Z]+',x1)\n",
    "print(w)"
   ]
  },
  {
   "cell_type": "markdown",
   "id": "028cf13e",
   "metadata": {},
   "source": [
    "## METACHARACTERS"
   ]
  },
  {
   "cell_type": "raw",
   "id": "6222f3c2",
   "metadata": {},
   "source": [
    "Metacharacters are characters with a special meaning:\n",
    "- []-> a set of characters \n",
    "- \\ -> signals a special sequence(can also be used to escape special characters)\n",
    "- . -> any character (except newline character)\n",
    "- ^ -> starts with    \"^hello\"\n",
    "- $ -> ends with     \"planet$\"\n",
    "- | -> either or     \"falls|stays\"\n",
    "- () -> capture and group"
   ]
  },
  {
   "cell_type": "markdown",
   "id": "bc68987f",
   "metadata": {},
   "source": [
    "## Quantifiers"
   ]
  },
  {
   "cell_type": "raw",
   "id": "3481e60b",
   "metadata": {},
   "source": [
    "* ->zero or more occcurence\n",
    "+ ->one or more occurence\n",
    "? ->zero or one occurence\n",
    "{} ->exactly the specified number of occurence\n",
    "{a,b} ->specified range of occurences"
   ]
  },
  {
   "cell_type": "markdown",
   "id": "6ebcb40b",
   "metadata": {},
   "source": [
    "## Special Sequences "
   ]
  },
  {
   "cell_type": "raw",
   "id": "885b45c9",
   "metadata": {},
   "source": [
    "A special sequence is a \\ followed by one of the characters in the list below and has a special meaning:\n",
    "\\A -> returns a match if the specified characters are at the beginning of the string\n",
    "\\b -> returns a match if the specified characters are at the beginning or at the end of a word\n",
    "\\B -> returns a match if the specified characters are present, but NOT at the beginning(or at the end) of a word( the \"r\" in the beginning is making sure that the string is being treated as a \"raw string\") \n",
    "\\d -> returns a match where the string contains digits (numbers from 0-9)\n",
    "\\D -> returns a match where the string DOES NOT contain digits\n",
    "\\s -> returns a match where the string contains a white space character\n",
    "\\S -> returns a match where the string DOES NOT contain a white space character\n",
    "\\w -> returns a match where the string contains any word character(characters from a to z, A to Z, 0 to 9,and underscore)\n",
    "\\W -> returns a match where the string DOES NOT contain any word characters\n",
    "\\Z -> returns a match if the specified characters are at the end of the string"
   ]
  },
  {
   "cell_type": "markdown",
   "id": "6bcb4300",
   "metadata": {},
   "source": [
    "## SETS \n",
    "A set is a set of characters inside a pair of square brackets [] with a special meaning"
   ]
  },
  {
   "cell_type": "raw",
   "id": "13558609",
   "metadata": {},
   "source": [
    "[arn] -> returns a match where any of the specified characters ('a' or 'r' or 'n') are present\n",
    "[a-n] ->  returns a match for any lowercase character, alphabetically between a and n\n",
    "[^arn] -> returns a match for any character EXCEPT a,r and n\n",
    "[0123] -> returns a match where any of the specified digits (0 or 1 or 2 or 3) are present\n",
    "[0-9] -> returns a match for any digit between 0 and 9\n",
    "[0-5][0-9] -> returns a match for any two digit number between 00 and 59\n",
    "[a-zA-Z] -> Returns a match for any character alphabetically between a and z, lowercase or uppercase\n",
    "[+]-> Inside set brackets, +, *, ., |, (), $, {} has no special meaning\n",
    "so [+] means to return a match for any + character in the string"
   ]
  },
  {
   "cell_type": "markdown",
   "id": "d072cd62",
   "metadata": {},
   "source": [
    "### Functions/Methods in re "
   ]
  },
  {
   "cell_type": "raw",
   "id": "fb73768f",
   "metadata": {},
   "source": [
    "re.match - return match object if pattern is found in the beginning of the string, else returns None\n",
    "re.search - return match object for first occurence of the pattern in the string, else returns None\n",
    "re.findall - returns a list of all the matches corresponding to the given pattern, else returns empty list\n",
    "re.split - returns a list of strings splitted from the given pattern/separator\n",
    "re.sub - substitute the pattern in the string\n",
    "re.finditer - creates an iterator on the matches."
   ]
  },
  {
   "cell_type": "code",
   "execution_count": 18,
   "id": "b41cd281",
   "metadata": {},
   "outputs": [],
   "source": [
    "x3 = \"\"\"Hello Vinod,\n",
    "How are you?\n",
    "Hello\n",
    "Blah Blah Blah\n",
    "\n",
    "Regards Snehal##\"\"\""
   ]
  },
  {
   "cell_type": "code",
   "execution_count": 19,
   "id": "d939179b",
   "metadata": {},
   "outputs": [
    {
     "name": "stdout",
     "output_type": "stream",
     "text": [
      "['Hello']\n",
      "['Snehal##']\n"
     ]
    }
   ],
   "source": [
    "xr = re.findall(r'^Hello',x3)\n",
    "print(xr)\n",
    "print(re.findall('Snehal##$',x3))"
   ]
  },
  {
   "cell_type": "code",
   "execution_count": 35,
   "id": "4ee65394",
   "metadata": {},
   "outputs": [],
   "source": [
    "x= \"\"\"abcdefghijklmnopqrstuvwxyz\n",
    "ABCDEFGHIJKLMNOPQRSTUVWXYZ\n",
    "some.one@gmail.com\n",
    "anything123@gmail.com\n",
    "@gmail.com\n",
    "9354-328-885\n",
    "9354.328.885\n",
    "Mr. Someone\n",
    "Mr. Anything\n",
    "\"\"\""
   ]
  },
  {
   "cell_type": "code",
   "execution_count": 30,
   "id": "e5ef8622",
   "metadata": {},
   "outputs": [],
   "source": [
    "xx= \"\"\"abcdefghijklmnopqrstuvwxyz\n",
    "ABCDEFGHIJKLMNOPQRSTUVWXYZ\n",
    "some.one@gmail.com\n",
    "anything123@gmail.com\n",
    "12345-67890-123\n",
    "9354-328-885\n",
    "9354.328.885\n",
    "Mr. Someone\n",
    "Mr Anything\n",
    "\"\"\""
   ]
  },
  {
   "cell_type": "code",
   "execution_count": 26,
   "id": "82b3f2f4",
   "metadata": {},
   "outputs": [
    {
     "name": "stdout",
     "output_type": "stream",
     "text": [
      "<re.Match object; span=(0, 4), match='abcd'>\n",
      "(0, 4)\n"
     ]
    }
   ],
   "source": [
    "res=re.match('abcd',x)\n",
    "print(res)\n",
    "print(res.span())"
   ]
  },
  {
   "cell_type": "code",
   "execution_count": 28,
   "id": "05ab49d6",
   "metadata": {},
   "outputs": [
    {
     "name": "stdout",
     "output_type": "stream",
     "text": [
      "<re.Match object; span=(0, 26), match='abcdefghijklmnopqrstuvwxyz'>\n",
      "(0, 26)\n",
      "abcdefghijklmnopqrstuvwxyz\n"
     ]
    }
   ],
   "source": [
    "res=re.match('[a-z]+',x)\n",
    "print(res)\n",
    "print(res.span())\n",
    "print(res.group())"
   ]
  },
  {
   "cell_type": "raw",
   "id": "ca0190d1",
   "metadata": {},
   "source": [
    "WE use group() function to get all the matches and captured groups. The groups contain the matched values. In particular:\n",
    "match.group(0) always returns the fully matched string\n",
    "match.group(1) match.group(2).... return the captured groups in order from left to right in the input string\n",
    "match.group() is equivalent to match.group(0)"
   ]
  },
  {
   "cell_type": "code",
   "execution_count": 23,
   "id": "2c75e905",
   "metadata": {},
   "outputs": [
    {
     "name": "stdout",
     "output_type": "stream",
     "text": [
      "None\n"
     ]
    }
   ],
   "source": [
    "res=re.match('12abcd',x)\n",
    "print(res)"
   ]
  },
  {
   "cell_type": "code",
   "execution_count": 24,
   "id": "78f93187",
   "metadata": {},
   "outputs": [
    {
     "name": "stdout",
     "output_type": "stream",
     "text": [
      "None\n"
     ]
    }
   ],
   "source": [
    "res=re.match('some',x)\n",
    "print(res)"
   ]
  },
  {
   "cell_type": "code",
   "execution_count": 29,
   "id": "025c67c4",
   "metadata": {},
   "outputs": [
    {
     "name": "stdout",
     "output_type": "stream",
     "text": [
      "<re.Match object; span=(106, 118), match='9354-328-885'>\n",
      "(106, 118)\n",
      "9354-328-885\n"
     ]
    }
   ],
   "source": [
    "regex= r\"[\\d]{4}-[\\d]{3}-[\\d]{3}\"\n",
    "s=re.search(regex,x)\n",
    "print(s)\n",
    "if s:\n",
    "    print(s.span())\n",
    "    print(s.group())"
   ]
  },
  {
   "cell_type": "code",
   "execution_count": 31,
   "id": "762cc58d",
   "metadata": {},
   "outputs": [
    {
     "name": "stdout",
     "output_type": "stream",
     "text": [
      "<re.Match object; span=(106, 118), match='9354-328-885'>\n",
      "(106, 118)\n",
      "9354-328-885\n"
     ]
    }
   ],
   "source": [
    "regex= r\"[\\d]+-[\\d]+-[\\d]+\"\n",
    "s=re.search(regex,x)\n",
    "print(s)\n",
    "if s:\n",
    "    print(s.span())\n",
    "    print(s.group())"
   ]
  },
  {
   "cell_type": "code",
   "execution_count": 32,
   "id": "b0e755bf",
   "metadata": {},
   "outputs": [
    {
     "name": "stdout",
     "output_type": "stream",
     "text": [
      "<re.Match object; span=(95, 110), match='12345-67890-123'>\n",
      "(95, 110)\n",
      "12345-67890-123\n"
     ]
    }
   ],
   "source": [
    "regex= r\"[\\d]+-[\\d]+-[\\d]+\"\n",
    "s=re.search(regex,xx)\n",
    "print(s)\n",
    "if s:\n",
    "    print(s.span())\n",
    "    print(s.group())"
   ]
  },
  {
   "cell_type": "code",
   "execution_count": 36,
   "id": "23dbff0e",
   "metadata": {},
   "outputs": [
    {
     "name": "stdout",
     "output_type": "stream",
     "text": [
      "['Mr. Someone', 'Mr. Anything']\n"
     ]
    }
   ],
   "source": [
    "res= re.findall(r'Mrs?\\. [a-zA-Z]+',x)\n",
    "print(res)"
   ]
  },
  {
   "cell_type": "code",
   "execution_count": 37,
   "id": "dbb4ec20",
   "metadata": {},
   "outputs": [
    {
     "name": "stdout",
     "output_type": "stream",
     "text": [
      "<callable_iterator object at 0x0000022F07ADE350>\n",
      "(132, 143)\n",
      "Mr. Someone\n",
      "\n",
      "(144, 156)\n",
      "Mr. Anything\n",
      "\n"
     ]
    }
   ],
   "source": [
    "res = re.finditer(r'Mrs?\\. [a-zA-Z]+',x)\n",
    "print(res)\n",
    "for i in res:\n",
    "    print(i.span())\n",
    "    print(i.group())\n",
    "    print()"
   ]
  },
  {
   "cell_type": "code",
   "execution_count": 38,
   "id": "8f8f143f",
   "metadata": {},
   "outputs": [
    {
     "name": "stdout",
     "output_type": "stream",
     "text": [
      "<re.Match object; span=(34, 49), match='January 24 2000'>\n",
      "Full Match: January 24 2000\n"
     ]
    },
    {
     "ename": "IndexError",
     "evalue": "no such group",
     "output_type": "error",
     "traceback": [
      "\u001b[1;31m---------------------------------------------------------------------------\u001b[0m",
      "\u001b[1;31mIndexError\u001b[0m                                Traceback (most recent call last)",
      "Cell \u001b[1;32mIn[38], line 11\u001b[0m\n\u001b[0;32m      8\u001b[0m \u001b[38;5;28mprint\u001b[39m(s)\n\u001b[0;32m     10\u001b[0m \u001b[38;5;28mprint\u001b[39m(\u001b[38;5;124m\"\u001b[39m\u001b[38;5;124mFull Match: \u001b[39m\u001b[38;5;132;01m%s\u001b[39;00m\u001b[38;5;124m\"\u001b[39m \u001b[38;5;241m%\u001b[39m (s\u001b[38;5;241m.\u001b[39mgroup()))  \u001b[38;5;66;03m#gives the entire match; ie all grps\u001b[39;00m\n\u001b[1;32m---> 11\u001b[0m \u001b[38;5;28mprint\u001b[39m(\u001b[38;5;124m\"\u001b[39m\u001b[38;5;124mMonth: \u001b[39m\u001b[38;5;132;01m%s\u001b[39;00m\u001b[38;5;124m\"\u001b[39m \u001b[38;5;241m%\u001b[39m (s\u001b[38;5;241m.\u001b[39mgroup(\u001b[38;5;241m1\u001b[39m)))  \u001b[38;5;66;03m#gives only first group, January\u001b[39;00m\n\u001b[0;32m     12\u001b[0m \u001b[38;5;28mprint\u001b[39m(\u001b[38;5;124m\"\u001b[39m\u001b[38;5;124mDay: \u001b[39m\u001b[38;5;132;01m%s\u001b[39;00m\u001b[38;5;124m\"\u001b[39m \u001b[38;5;241m%\u001b[39m (s\u001b[38;5;241m.\u001b[39mgroup(\u001b[38;5;241m2\u001b[39m)))  \u001b[38;5;66;03m#gives only second grp, 24\u001b[39;00m\n\u001b[0;32m     13\u001b[0m \u001b[38;5;28mprint\u001b[39m(\u001b[38;5;124m\"\u001b[39m\u001b[38;5;124mYear: \u001b[39m\u001b[38;5;132;01m%s\u001b[39;00m\u001b[38;5;124m\"\u001b[39m \u001b[38;5;241m%\u001b[39m (s\u001b[38;5;241m.\u001b[39mgroup(\u001b[38;5;241m3\u001b[39m)))\n",
      "\u001b[1;31mIndexError\u001b[0m: no such group"
     ]
    }
   ],
   "source": [
    "import re\n",
    "string = \"My name is Harshil. I was born on January 24 2000\"\n",
    "\n",
    "regex1=r\"[a-zA-Z]+ \\d{2} \\d{4}\"\n",
    "#regex =r\"([a-zA-Z]+) (\\d{2}) (\\d{4})\"   #groups created for each part\n",
    "\n",
    "s=re.search(regex1,string)\n",
    "print(s)\n",
    "\n",
    "print(\"Full Match: %s\" % (s.group()))  #gives the entire match; ie all grps\n",
    "print(\"Month: %s\" % (s.group(1)))  #gives only first group, January\n",
    "print(\"Day: %s\" % (s.group(2)))  #gives only second grp, 24\n",
    "print(\"Year: %s\" % (s.group(3)))   #gives only third grp, 2000\n",
    "#in case of regex1 grps are not created therefore only full match \n",
    "#will be printed"
   ]
  },
  {
   "cell_type": "code",
   "execution_count": 42,
   "id": "287d1ca9",
   "metadata": {},
   "outputs": [
    {
     "name": "stdout",
     "output_type": "stream",
     "text": [
      "<re.Match object; span=(34, 49), match='January 24 2000'>\n",
      "Full Match: January 24 2000\n",
      "Month: January\n",
      "Day: 24\n",
      "Year: 2000\n"
     ]
    }
   ],
   "source": [
    "import re\n",
    "string = \"My name is Harshil. I was born on January 24 2000\"\n",
    "\n",
    "#regex1=r\"[a-zA-Z]+ \\d{2} \\d{4}\"\n",
    "regex =r\"([a-zA-Z]+) (\\d{2}) (\\d{4})\"   #groups created for each part\n",
    "\n",
    "s=re.search(regex,string)\n",
    "print(s)\n",
    "\n",
    "print(\"Full Match: %s\" % (s.group()))  #gives the entire match; ie all grps\n",
    "print(\"Month: %s\" % (s.group(1)))  #gives only first group, January\n",
    "print(\"Day: %s\" % (s.group(2)))  #gives only second grp, 24\n",
    "print(\"Year: %s\" % (s.group(3)))   #gives only third grp, 2000\n",
    "#in case of regex1 grps are not created therefore only full match \n",
    "#will be printed"
   ]
  },
  {
   "cell_type": "code",
   "execution_count": 44,
   "id": "a251ba5b",
   "metadata": {},
   "outputs": [
    {
     "data": {
      "text/plain": [
       "'This:is::a:Python:Class'"
      ]
     },
     "execution_count": 44,
     "metadata": {},
     "output_type": "execute_result"
    }
   ],
   "source": [
    "s='This is  a Python Class'\n",
    "s.replace(\" \",\":\")"
   ]
  },
  {
   "cell_type": "code",
   "execution_count": 47,
   "id": "98be7ddd",
   "metadata": {},
   "outputs": [
    {
     "name": "stdout",
     "output_type": "stream",
     "text": [
      "Enter DoB: 27/12/1990\n"
     ]
    },
    {
     "data": {
      "text/plain": [
       "'27:12:1990'"
      ]
     },
     "execution_count": 47,
     "metadata": {},
     "output_type": "execute_result"
    }
   ],
   "source": [
    "dob = input('Enter DoB: ')\n",
    "dob.replace('/',':')"
   ]
  },
  {
   "cell_type": "code",
   "execution_count": 48,
   "id": "8d90cd8d",
   "metadata": {},
   "outputs": [
    {
     "name": "stdout",
     "output_type": "stream",
     "text": [
      "Enter DoB: 27-12-1990\n"
     ]
    },
    {
     "data": {
      "text/plain": [
       "'27-12-1990'"
      ]
     },
     "execution_count": 48,
     "metadata": {},
     "output_type": "execute_result"
    }
   ],
   "source": [
    "dob = input('Enter DoB: ')\n",
    "dob.replace('/',':')"
   ]
  },
  {
   "cell_type": "code",
   "execution_count": 52,
   "id": "9bf1a23f",
   "metadata": {},
   "outputs": [
    {
     "name": "stdout",
     "output_type": "stream",
     "text": [
      "Enter DoB: 27/12/1990\n"
     ]
    },
    {
     "ename": "error",
     "evalue": "bad character range /-. at position 1",
     "output_type": "error",
     "traceback": [
      "\u001b[1;31m---------------------------------------------------------------------------\u001b[0m",
      "\u001b[1;31merror\u001b[0m                                     Traceback (most recent call last)",
      "Cell \u001b[1;32mIn[52], line 2\u001b[0m\n\u001b[0;32m      1\u001b[0m dob \u001b[38;5;241m=\u001b[39m \u001b[38;5;28minput\u001b[39m(\u001b[38;5;124m'\u001b[39m\u001b[38;5;124mEnter DoB: \u001b[39m\u001b[38;5;124m'\u001b[39m)\n\u001b[1;32m----> 2\u001b[0m re\u001b[38;5;241m.\u001b[39msub(\u001b[38;5;124m'\u001b[39m\u001b[38;5;124m[/-.]\u001b[39m\u001b[38;5;124m'\u001b[39m,\u001b[38;5;124m'\u001b[39m\u001b[38;5;124m:\u001b[39m\u001b[38;5;124m'\u001b[39m,dob)\n",
      "File \u001b[1;32m~\\anaconda3\\Lib\\re\\__init__.py:185\u001b[0m, in \u001b[0;36msub\u001b[1;34m(pattern, repl, string, count, flags)\u001b[0m\n\u001b[0;32m    178\u001b[0m \u001b[38;5;28;01mdef\u001b[39;00m \u001b[38;5;21msub\u001b[39m(pattern, repl, string, count\u001b[38;5;241m=\u001b[39m\u001b[38;5;241m0\u001b[39m, flags\u001b[38;5;241m=\u001b[39m\u001b[38;5;241m0\u001b[39m):\n\u001b[0;32m    179\u001b[0m \u001b[38;5;250m    \u001b[39m\u001b[38;5;124;03m\"\"\"Return the string obtained by replacing the leftmost\u001b[39;00m\n\u001b[0;32m    180\u001b[0m \u001b[38;5;124;03m    non-overlapping occurrences of the pattern in string by the\u001b[39;00m\n\u001b[0;32m    181\u001b[0m \u001b[38;5;124;03m    replacement repl.  repl can be either a string or a callable;\u001b[39;00m\n\u001b[0;32m    182\u001b[0m \u001b[38;5;124;03m    if a string, backslash escapes in it are processed.  If it is\u001b[39;00m\n\u001b[0;32m    183\u001b[0m \u001b[38;5;124;03m    a callable, it's passed the Match object and must return\u001b[39;00m\n\u001b[0;32m    184\u001b[0m \u001b[38;5;124;03m    a replacement string to be used.\"\"\"\u001b[39;00m\n\u001b[1;32m--> 185\u001b[0m     \u001b[38;5;28;01mreturn\u001b[39;00m _compile(pattern, flags)\u001b[38;5;241m.\u001b[39msub(repl, string, count)\n",
      "File \u001b[1;32m~\\anaconda3\\Lib\\re\\__init__.py:294\u001b[0m, in \u001b[0;36m_compile\u001b[1;34m(pattern, flags)\u001b[0m\n\u001b[0;32m    288\u001b[0m     \u001b[38;5;28;01mimport\u001b[39;00m \u001b[38;5;21;01mwarnings\u001b[39;00m\n\u001b[0;32m    289\u001b[0m     warnings\u001b[38;5;241m.\u001b[39mwarn(\u001b[38;5;124m\"\u001b[39m\u001b[38;5;124mThe re.TEMPLATE/re.T flag is deprecated \u001b[39m\u001b[38;5;124m\"\u001b[39m\n\u001b[0;32m    290\u001b[0m               \u001b[38;5;124m\"\u001b[39m\u001b[38;5;124mas it is an undocumented flag \u001b[39m\u001b[38;5;124m\"\u001b[39m\n\u001b[0;32m    291\u001b[0m               \u001b[38;5;124m\"\u001b[39m\u001b[38;5;124mwithout an obvious purpose. \u001b[39m\u001b[38;5;124m\"\u001b[39m\n\u001b[0;32m    292\u001b[0m               \u001b[38;5;124m\"\u001b[39m\u001b[38;5;124mDon\u001b[39m\u001b[38;5;124m'\u001b[39m\u001b[38;5;124mt use it.\u001b[39m\u001b[38;5;124m\"\u001b[39m,\n\u001b[0;32m    293\u001b[0m               \u001b[38;5;167;01mDeprecationWarning\u001b[39;00m)\n\u001b[1;32m--> 294\u001b[0m p \u001b[38;5;241m=\u001b[39m _compiler\u001b[38;5;241m.\u001b[39mcompile(pattern, flags)\n\u001b[0;32m    295\u001b[0m \u001b[38;5;28;01mif\u001b[39;00m \u001b[38;5;129;01mnot\u001b[39;00m (flags \u001b[38;5;241m&\u001b[39m DEBUG):\n\u001b[0;32m    296\u001b[0m     \u001b[38;5;28;01mif\u001b[39;00m \u001b[38;5;28mlen\u001b[39m(_cache) \u001b[38;5;241m>\u001b[39m\u001b[38;5;241m=\u001b[39m _MAXCACHE:\n\u001b[0;32m    297\u001b[0m         \u001b[38;5;66;03m# Drop the oldest item\u001b[39;00m\n",
      "File \u001b[1;32m~\\anaconda3\\Lib\\re\\_compiler.py:743\u001b[0m, in \u001b[0;36mcompile\u001b[1;34m(p, flags)\u001b[0m\n\u001b[0;32m    741\u001b[0m \u001b[38;5;28;01mif\u001b[39;00m isstring(p):\n\u001b[0;32m    742\u001b[0m     pattern \u001b[38;5;241m=\u001b[39m p\n\u001b[1;32m--> 743\u001b[0m     p \u001b[38;5;241m=\u001b[39m _parser\u001b[38;5;241m.\u001b[39mparse(p, flags)\n\u001b[0;32m    744\u001b[0m \u001b[38;5;28;01melse\u001b[39;00m:\n\u001b[0;32m    745\u001b[0m     pattern \u001b[38;5;241m=\u001b[39m \u001b[38;5;28;01mNone\u001b[39;00m\n",
      "File \u001b[1;32m~\\anaconda3\\Lib\\re\\_parser.py:982\u001b[0m, in \u001b[0;36mparse\u001b[1;34m(str, flags, state)\u001b[0m\n\u001b[0;32m    979\u001b[0m state\u001b[38;5;241m.\u001b[39mflags \u001b[38;5;241m=\u001b[39m flags\n\u001b[0;32m    980\u001b[0m state\u001b[38;5;241m.\u001b[39mstr \u001b[38;5;241m=\u001b[39m \u001b[38;5;28mstr\u001b[39m\n\u001b[1;32m--> 982\u001b[0m p \u001b[38;5;241m=\u001b[39m _parse_sub(source, state, flags \u001b[38;5;241m&\u001b[39m SRE_FLAG_VERBOSE, \u001b[38;5;241m0\u001b[39m)\n\u001b[0;32m    983\u001b[0m p\u001b[38;5;241m.\u001b[39mstate\u001b[38;5;241m.\u001b[39mflags \u001b[38;5;241m=\u001b[39m fix_flags(\u001b[38;5;28mstr\u001b[39m, p\u001b[38;5;241m.\u001b[39mstate\u001b[38;5;241m.\u001b[39mflags)\n\u001b[0;32m    985\u001b[0m \u001b[38;5;28;01mif\u001b[39;00m source\u001b[38;5;241m.\u001b[39mnext \u001b[38;5;129;01mis\u001b[39;00m \u001b[38;5;129;01mnot\u001b[39;00m \u001b[38;5;28;01mNone\u001b[39;00m:\n",
      "File \u001b[1;32m~\\anaconda3\\Lib\\re\\_parser.py:457\u001b[0m, in \u001b[0;36m_parse_sub\u001b[1;34m(source, state, verbose, nested)\u001b[0m\n\u001b[0;32m    455\u001b[0m start \u001b[38;5;241m=\u001b[39m source\u001b[38;5;241m.\u001b[39mtell()\n\u001b[0;32m    456\u001b[0m \u001b[38;5;28;01mwhile\u001b[39;00m \u001b[38;5;28;01mTrue\u001b[39;00m:\n\u001b[1;32m--> 457\u001b[0m     itemsappend(_parse(source, state, verbose, nested \u001b[38;5;241m+\u001b[39m \u001b[38;5;241m1\u001b[39m,\n\u001b[0;32m    458\u001b[0m                        \u001b[38;5;129;01mnot\u001b[39;00m nested \u001b[38;5;129;01mand\u001b[39;00m \u001b[38;5;129;01mnot\u001b[39;00m items))\n\u001b[0;32m    459\u001b[0m     \u001b[38;5;28;01mif\u001b[39;00m \u001b[38;5;129;01mnot\u001b[39;00m sourcematch(\u001b[38;5;124m\"\u001b[39m\u001b[38;5;124m|\u001b[39m\u001b[38;5;124m\"\u001b[39m):\n\u001b[0;32m    460\u001b[0m         \u001b[38;5;28;01mbreak\u001b[39;00m\n",
      "File \u001b[1;32m~\\anaconda3\\Lib\\re\\_parser.py:614\u001b[0m, in \u001b[0;36m_parse\u001b[1;34m(source, state, verbose, nested, first)\u001b[0m\n\u001b[0;32m    612\u001b[0m     \u001b[38;5;28;01mif\u001b[39;00m hi \u001b[38;5;241m<\u001b[39m lo:\n\u001b[0;32m    613\u001b[0m         msg \u001b[38;5;241m=\u001b[39m \u001b[38;5;124m\"\u001b[39m\u001b[38;5;124mbad character range \u001b[39m\u001b[38;5;132;01m%s\u001b[39;00m\u001b[38;5;124m-\u001b[39m\u001b[38;5;132;01m%s\u001b[39;00m\u001b[38;5;124m\"\u001b[39m \u001b[38;5;241m%\u001b[39m (this, that)\n\u001b[1;32m--> 614\u001b[0m         \u001b[38;5;28;01mraise\u001b[39;00m source\u001b[38;5;241m.\u001b[39merror(msg, \u001b[38;5;28mlen\u001b[39m(this) \u001b[38;5;241m+\u001b[39m \u001b[38;5;241m1\u001b[39m \u001b[38;5;241m+\u001b[39m \u001b[38;5;28mlen\u001b[39m(that))\n\u001b[0;32m    615\u001b[0m     setappend((RANGE, (lo, hi)))\n\u001b[0;32m    616\u001b[0m \u001b[38;5;28;01melse\u001b[39;00m:\n",
      "\u001b[1;31merror\u001b[0m: bad character range /-. at position 1"
     ]
    }
   ],
   "source": [
    "dob = input('Enter DoB: ')\n",
    "re.sub('[/-.]',':',dob)  \n",
    "#error:bad character range due to hyphen. hyphen inside set represents \n",
    "#range from previous character to next character. \n",
    "#therefore add a backward slash to escape its special feature."
   ]
  },
  {
   "cell_type": "code",
   "execution_count": 53,
   "id": "3889cd65",
   "metadata": {},
   "outputs": [
    {
     "name": "stdout",
     "output_type": "stream",
     "text": [
      "Enter DoB: 27/12/1990\n"
     ]
    },
    {
     "data": {
      "text/plain": [
       "'27:12:1990'"
      ]
     },
     "execution_count": 53,
     "metadata": {},
     "output_type": "execute_result"
    }
   ],
   "source": [
    "dob = input('Enter DoB: ')\n",
    "re.sub('[/\\-.]',':',dob) "
   ]
  },
  {
   "cell_type": "code",
   "execution_count": 54,
   "id": "df2f6ce5",
   "metadata": {},
   "outputs": [
    {
     "name": "stdout",
     "output_type": "stream",
     "text": [
      "Enter DoB: 27-12-1990\n"
     ]
    },
    {
     "data": {
      "text/plain": [
       "'27:12:1990'"
      ]
     },
     "execution_count": 54,
     "metadata": {},
     "output_type": "execute_result"
    }
   ],
   "source": [
    "#or put - in the end then it works as just a hyphen to be searched in exp\n",
    "dob = input('Enter DoB: ')\n",
    "re.sub('[/.-]',':',dob) "
   ]
  },
  {
   "cell_type": "code",
   "execution_count": 56,
   "id": "867b1771",
   "metadata": {},
   "outputs": [],
   "source": [
    "dob = '27/12-1990'"
   ]
  },
  {
   "cell_type": "code",
   "execution_count": 57,
   "id": "75361b36",
   "metadata": {},
   "outputs": [
    {
     "data": {
      "text/plain": [
       "['27', '12-1990']"
      ]
     },
     "execution_count": 57,
     "metadata": {},
     "output_type": "execute_result"
    }
   ],
   "source": [
    "dob.split('/')"
   ]
  },
  {
   "cell_type": "code",
   "execution_count": 58,
   "id": "62d1f48d",
   "metadata": {},
   "outputs": [
    {
     "data": {
      "text/plain": [
       "['27', '12', '1990']"
      ]
     },
     "execution_count": 58,
     "metadata": {},
     "output_type": "execute_result"
    }
   ],
   "source": [
    "re.split('[/.-]',dob)"
   ]
  },
  {
   "cell_type": "code",
   "execution_count": null,
   "id": "58f6491d",
   "metadata": {},
   "outputs": [],
   "source": []
  }
 ],
 "metadata": {
  "kernelspec": {
   "display_name": "Python 3 (ipykernel)",
   "language": "python",
   "name": "python3"
  },
  "language_info": {
   "codemirror_mode": {
    "name": "ipython",
    "version": 3
   },
   "file_extension": ".py",
   "mimetype": "text/x-python",
   "name": "python",
   "nbconvert_exporter": "python",
   "pygments_lexer": "ipython3",
   "version": "3.11.5"
  }
 },
 "nbformat": 4,
 "nbformat_minor": 5
}
